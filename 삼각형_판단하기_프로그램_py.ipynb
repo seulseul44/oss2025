{
  "nbformat": 4,
  "nbformat_minor": 0,
  "metadata": {
    "colab": {
      "provenance": [],
      "authorship_tag": "ABX9TyNiB04XOwYXIasVdWRQXIJw",
      "include_colab_link": true
    },
    "kernelspec": {
      "name": "python3",
      "display_name": "Python 3"
    },
    "language_info": {
      "name": "python"
    }
  },
  "cells": [
    {
      "cell_type": "markdown",
      "metadata": {
        "id": "view-in-github",
        "colab_type": "text"
      },
      "source": [
        "<a href=\"https://colab.research.google.com/github/seulseul44/oss2025/blob/main/%EC%82%BC%EA%B0%81%ED%98%95_%ED%8C%90%EB%8B%A8%ED%95%98%EA%B8%B0_%ED%94%84%EB%A1%9C%EA%B7%B8%EB%9E%A8_py.ipynb\" target=\"_parent\"><img src=\"https://colab.research.google.com/assets/colab-badge.svg\" alt=\"Open In Colab\"/></a>"
      ]
    },
    {
      "cell_type": "code",
      "execution_count": null,
      "metadata": {
        "id": "NdZLUOS5sdUM"
      },
      "outputs": [],
      "source": []
    }
  ]
}